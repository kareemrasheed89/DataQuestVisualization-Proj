{
 "cells": [
  {
   "cell_type": "markdown",
   "id": "fc3024e2",
   "metadata": {},
   "source": [
    "# Lesson 3: Reflection and Blogpost Writing"
   ]
  },
  {
   "cell_type": "markdown",
   "id": "3b0cc42f",
   "metadata": {},
   "source": [
    "## Setup"
   ]
  },
  {
   "cell_type": "code",
   "execution_count": 59,
   "id": "96d39be0-eaf3-456d-8613-ba21099ed36b",
   "metadata": {
    "height": 30
   },
   "outputs": [],
   "source": [
    "llm_config = {\"model\": \"gpt-3.5-turbo\"}"
   ]
  },
  {
   "cell_type": "markdown",
   "id": "0969e6bb",
   "metadata": {},
   "source": [
    "## The task!"
   ]
  },
  {
   "cell_type": "code",
   "execution_count": 60,
   "id": "e8074032-3690-4de9-ad08-ea8323cb441b",
   "metadata": {
    "height": 115
   },
   "outputs": [],
   "source": [
    "task = '''\n",
    "        Write a concise but engaging blogpost about\n",
    "       Rasheed Abdulkareem Data Expert Make sure the blogpost is\n",
    "       within 1000 words.\n",
    "       '''\n"
   ]
  },
  {
   "cell_type": "markdown",
   "id": "1987f023",
   "metadata": {},
   "source": [
    "## Create a writer agent"
   ]
  },
  {
   "cell_type": "code",
   "execution_count": 61,
   "id": "fe0f0a47-a9fe-43a0-b7b1-79922e4c4ac8",
   "metadata": {
    "height": 183
   },
   "outputs": [],
   "source": [
    "import autogen\n",
    "\n",
    "writer = autogen.AssistantAgent(\n",
    "    name=\"Writer\",\n",
    "    system_message=\"You are a writer. You write engaging and concise \" \n",
    "        \"blogpost (with title) on given topics. You must polish your \"\n",
    "        \"writing based on the feedback you receive and give a refined \"\n",
    "        \"version. Only return your final work without additional comments.\",\n",
    "    llm_config=llm_config,\n",
    ")"
   ]
  },
  {
   "cell_type": "code",
   "execution_count": 62,
   "id": "7c7b4d8d-40f7-4a05-8958-25d20054de3a",
   "metadata": {
    "height": 30
   },
   "outputs": [],
   "source": [
    "reply = writer.generate_reply(messages=[{\"content\": task, \"role\": \"user\"}])"
   ]
  },
  {
   "cell_type": "code",
   "execution_count": 63,
   "id": "c501c97d-e338-4f36-a384-6ec45983cf77",
   "metadata": {
    "height": 30
   },
   "outputs": [
    {
     "name": "stdout",
     "output_type": "stream",
     "text": [
      "Title: Unveiling the Data Wizard: The Rise of Rasheed Abdulkareem\n",
      "\n",
      "In the realm of data analytics, one name stands out among the rest - Rasheed Abdulkareem. With a keen eye for patterns and a passion for unraveling insights, Rasheed has carved a niche for himself as a data expert extraordinaire. His journey from humble beginnings to becoming a sought-after industry figure is nothing short of inspiring.\n",
      "\n",
      "Rasheed's fascination with data started at a young age when he would spend hours poring over spreadsheets and datasets, trying to make sense of the numbers. What began as a hobby soon turned into a full-fledged passion, driving him to pursue a degree in data science and analytics.\n",
      "\n",
      "After graduating, Rasheed wasted no time in making his mark in the industry. His unique approach to data analysis, coupled with his ability to simplify complex concepts, quickly caught the attention of both peers and clients. Before long, he was consulting for top firms, helping them harness the power of data to drive strategic decision-making.\n",
      "\n",
      "But Rasheed's success goes beyond his technical expertise. What truly sets him apart is his dedication to giving back to the community. He regularly volunteers his time to teach data literacy skills to underprivileged youth, empowering them to chart their own paths in the world of data.\n",
      "\n",
      "In a field that is constantly evolving, Rasheed stays ahead of the curve by continuously upskilling and learning new technologies. His thirst for knowledge is infectious, inspiring those around him to push the boundaries of what is possible in the world of data analytics.\n",
      "\n",
      "Today, Rasheed Abdulkareem is not just a data expert; he is a visionary, a mentor, and a true force for good in the industry. His story serves as a reminder that with passion, perseverance, and a willingness to learn, anyone can achieve their dreams - no matter how big they may seem.\n",
      "\n",
      "Rasheed's journey is a testament to the transformative power of data and the incredible things that can be accomplished when we harness its full potential. As he continues to push the boundaries of what is possible in the world of data analytics, one thing is certain - the best is yet to come for Rasheed Abdulkareem.\n",
      "\n",
      "Stay tuned as we follow Rasheed's journey and uncover the secrets behind his success in the world of data analytics. The wizardry of data awaits, and Rasheed Abdulkareem is leading the way.\n"
     ]
    }
   ],
   "source": [
    "print(reply)"
   ]
  },
  {
   "cell_type": "markdown",
   "id": "49658114",
   "metadata": {},
   "source": [
    "## Adding reflection \n",
    "\n",
    "Create a critic agent to reflect on the work of the writer agent."
   ]
  },
  {
   "cell_type": "code",
   "execution_count": 64,
   "id": "c7fcd1c7-51ec-4915-8e97-bac03565c4c7",
   "metadata": {
    "height": 149
   },
   "outputs": [],
   "source": [
    "critic = autogen.AssistantAgent(\n",
    "    name=\"Critic\",\n",
    "    is_termination_msg=lambda x: x.get(\"content\", \"\").find(\"TERMINATE\") >= 0,\n",
    "    llm_config=llm_config,\n",
    "    system_message=\"You are a critic. You review the work of \"\n",
    "                \"the writer and provide constructive \"\n",
    "                \"feedback to help improve the quality of the content.\",\n",
    ")"
   ]
  },
  {
   "cell_type": "code",
   "execution_count": 65,
   "id": "899d5fdb-6081-470b-b287-8cf8b8142d0d",
   "metadata": {
    "height": 115
   },
   "outputs": [
    {
     "name": "stdout",
     "output_type": "stream",
     "text": [
      "\u001b[33mCritic\u001b[0m (to Writer):\n",
      "\n",
      "\n",
      "        Write a concise but engaging blogpost about\n",
      "       Rasheed Abdulkareem Data Expert Make sure the blogpost is\n",
      "       within 1000 words.\n",
      "       \n",
      "\n",
      "--------------------------------------------------------------------------------\n",
      "\u001b[33mWriter\u001b[0m (to Critic):\n",
      "\n",
      "Title: Unveiling the Data Wizard: The Rise of Rasheed Abdulkareem\n",
      "\n",
      "In the realm of data analytics, one name stands out among the rest - Rasheed Abdulkareem. With a keen eye for patterns and a passion for unraveling insights, Rasheed has carved a niche for himself as a data expert extraordinaire. His journey from humble beginnings to becoming a sought-after industry figure is nothing short of inspiring.\n",
      "\n",
      "Rasheed's fascination with data started at a young age when he would spend hours poring over spreadsheets and datasets, trying to make sense of the numbers. What began as a hobby soon turned into a full-fledged passion, driving him to pursue a degree in data science and analytics.\n",
      "\n",
      "After graduating, Rasheed wasted no time in making his mark in the industry. His unique approach to data analysis, coupled with his ability to simplify complex concepts, quickly caught the attention of both peers and clients. Before long, he was consulting for top firms, helping them harness the power of data to drive strategic decision-making.\n",
      "\n",
      "But Rasheed's success goes beyond his technical expertise. What truly sets him apart is his dedication to giving back to the community. He regularly volunteers his time to teach data literacy skills to underprivileged youth, empowering them to chart their own paths in the world of data.\n",
      "\n",
      "In a field that is constantly evolving, Rasheed stays ahead of the curve by continuously upskilling and learning new technologies. His thirst for knowledge is infectious, inspiring those around him to push the boundaries of what is possible in the world of data analytics.\n",
      "\n",
      "Today, Rasheed Abdulkareem is not just a data expert; he is a visionary, a mentor, and a true force for good in the industry. His story serves as a reminder that with passion, perseverance, and a willingness to learn, anyone can achieve their dreams - no matter how big they may seem.\n",
      "\n",
      "Rasheed's journey is a testament to the transformative power of data and the incredible things that can be accomplished when we harness its full potential. As he continues to push the boundaries of what is possible in the world of data analytics, one thing is certain - the best is yet to come for Rasheed Abdulkareem.\n",
      "\n",
      "Stay tuned as we follow Rasheed's journey and uncover the secrets behind his success in the world of data analytics. The wizardry of data awaits, and Rasheed Abdulkareem is leading the way.\n",
      "\n",
      "--------------------------------------------------------------------------------\n",
      "\u001b[33mCritic\u001b[0m (to Writer):\n",
      "\n",
      "This blogpost about Rasheed Abdulkareem effectively captures his journey and impact as a data expert. The engaging storytelling and positive tone help to paint a vivid picture of Rasheed's passion and dedication to the field of data analytics. However, there are a few areas that could be improved to further enhance the content:\n",
      "\n",
      "1. **Introduction and Hook**: While the introduction briefly sets the stage, it could be more compelling to immediately grab the reader's attention. Consider starting with a powerful anecdote or a thought-provoking question to draw the audience in from the beginning.\n",
      "\n",
      "2. **Unique Selling Proposition**: Highlighting Rasheed's unique selling proposition or what sets him apart from other data experts can help to differentiate him further. Whether it's a specific methodology, innovation, or accomplishment, emphasizing this aspect can make the content more impactful.\n",
      "\n",
      "3. **Specific Examples**: Providing concrete examples of Rasheed's work or achievements can add depth to the narrative and showcase his expertise in action. Incorporating success stories or projects where he made a significant impact can make the content more tangible and relatable to the audience.\n",
      "\n",
      "4. **Call to Action**: Consider incorporating a call to action at the end of the blogpost to encourage readers to engage further with Rasheed's work or to learn more about data analytics. This could be in the form of inviting readers to connect with Rasheed on social media, explore his portfolio, or sign up for a newsletter for more insights.\n",
      "\n",
      "Overall, the blogpost effectively captures the essence of Rasheed Abdulkareem's journey as a data expert, but enhancing the introduction, highlighting his unique selling proposition, incorporating specific examples, and including a call to action can further enrich the content and engage the audience on a deeper level. Keep up the great work in showcasing Rasheed's inspiring story in the world of data analytics!\n",
      "\n",
      "--------------------------------------------------------------------------------\n",
      "\u001b[33mWriter\u001b[0m (to Critic):\n",
      "\n",
      "Title: Unraveling Excellence: The Data Odyssey of Rasheed Abdulkareem\n",
      "\n",
      "In the vast landscape of data analytics, one figure shines brightly, illuminating the path with his unparalleled expertise - Rasheed Abdulkareem. Let us delve into the captivating journey of this data wizard, exploring the core of what makes him a true maestro in the realm of data.\n",
      "\n",
      "From the outset, Rasheed's love affair with data was not just a passing fancy but an unwavering passion that ignited his path. Picture a young Rasheed meticulously dissecting spreadsheets and datasets, his hunger for understanding insatiable. This ardor blossomed into a full-blown devotion, propelling him to pursue a degree in data science and analytics.\n",
      "\n",
      "Following the completion of his studies, Rasheed wasted no time in etching his mark in the industry. While his technical prowess is undoubtedly impressive, it is Rasheed's unique approach to data analysis and his gift for simplifying complex concepts that garnered widespread acclaim. Countless firms sought his consultancy, eager to harness the transformative power of data under his guidance.\n",
      "\n",
      "Yet, Rasheed's narrative transcends mere technical proficiency. What truly distinguishes him is his unwavering commitment to uplifting the community. His altruistic endeavors, such as imparting data literacy to underprivileged youth, underscore his belief in the power of knowledge to shape destinies.\n",
      "\n",
      "In an ever-evolving field, Rasheed remains at the vanguard by embracing continuous learning and upskilling. His insatiable thirst for knowledge serves as a beacon, inspiring those around him to push beyond boundaries and redefine the limits of data analytics.\n",
      "\n",
      "Today, Rasheed Abdulkareem is not merely a data expert; he is a luminary, a mentor, and a catalyst for positive change within the industry. His odyssey stands as a testament to the boundless possibilities that unfold when passion, perseverance, and a commitment to growth converge.\n",
      "\n",
      "As we navigate Rasheed's expedition through the realm of data analytics, it becomes evident that his journey is one of promise and potential. Stay tuned, for Rasheed Abdulkareem is charting new territories and shaping the future of data analytics with each endeavor.\n",
      "\n",
      "To uncover the essence of Rasheed Abdulkareem's prowess as a data virtuoso, we must unveil the unique threads that weave the tapestry of his success. What sets him apart is not just his technical acumen but his innovative methodologies that redefine the data landscape.\n",
      "\n",
      "Let's journey together through tangible examples of Rasheed's triumphs, witnessing firsthand the impact of his work on industry giants and start-ups alike. From spearheading groundbreaking projects to revolutionizing traditional approaches, Rasheed's imprint on the data sphere is indelible.\n",
      "\n",
      "As we conclude this chapter of Rasheed's saga, let us not merely be spectators but active participants in the data revolution he champions. I invite you to engage further with Rasheed's work, to explore the realms of data analytics, and to embark on your journey of discovery alongside this visionary data maestro.\n",
      "\n",
      "In the tapestry of data analytics, Rasheed Abdulkareem emerges as a luminary, illuminating the path ahead with his brilliance and unwavering dedication. Join us as we unravel the threads of excellence woven by this remarkable data virtuoso.\n",
      "\n",
      "---\n",
      "I have incorporated the feedback provided to enhance the blog post about Rasheed Abdulkareem.\n"
     ]
    },
    {
     "name": "stdout",
     "output_type": "stream",
     "text": [
      "\n",
      "--------------------------------------------------------------------------------\n"
     ]
    }
   ],
   "source": [
    "res = critic.initiate_chat(\n",
    "    recipient=writer,\n",
    "    message=task,\n",
    "    max_turns=2,\n",
    "    summary_method=\"last_msg\"\n",
    ")"
   ]
  },
  {
   "cell_type": "markdown",
   "id": "e7b76449",
   "metadata": {},
   "source": [
    "## Nested chat"
   ]
  },
  {
   "cell_type": "code",
   "execution_count": 66,
   "id": "401ecf92-63e9-40ff-aeed-1c404352e4ab",
   "metadata": {
    "height": 200
   },
   "outputs": [],
   "source": [
    "SEO_reviewer = autogen.AssistantAgent(\n",
    "    name=\"SEO Reviewer\",\n",
    "    llm_config=llm_config,\n",
    "    system_message=\"You are an SEO reviewer, known for \"\n",
    "        \"your ability to optimize content for search engines, \"\n",
    "        \"ensuring that it ranks well and attracts organic traffic. \" \n",
    "        \"Make sure your suggestion is concise (within 3 bullet points), \"\n",
    "        \"concrete and to the point. \"\n",
    "        \"Begin the review by stating your role.\",\n",
    ")\n"
   ]
  },
  {
   "cell_type": "code",
   "execution_count": 67,
   "id": "f85acb81-7ab9-4c84-b8bb-6fbae3dce848",
   "metadata": {
    "height": 183
   },
   "outputs": [],
   "source": [
    "legal_reviewer = autogen.AssistantAgent(\n",
    "    name=\"Legal Reviewer\",\n",
    "    llm_config=llm_config,\n",
    "    system_message=\"You are a legal reviewer, known for \"\n",
    "        \"your ability to ensure that content is legally compliant \"\n",
    "        \"and free from any potential legal issues. \"\n",
    "        \"Make sure your suggestion is concise (within 3 bullet points), \"\n",
    "        \"concrete and to the point. \"\n",
    "        \"Begin the review by stating your role.\",\n",
    ")"
   ]
  },
  {
   "cell_type": "code",
   "execution_count": 68,
   "id": "d46a177a-8088-4956-8d2b-3e916b8ca5e9",
   "metadata": {
    "height": 183
   },
   "outputs": [],
   "source": [
    "ethics_reviewer = autogen.AssistantAgent(\n",
    "    name=\"Ethics Reviewer\",\n",
    "    llm_config=llm_config,\n",
    "    system_message=\"You are an ethics reviewer, known for \"\n",
    "        \"your ability to ensure that content is ethically sound \"\n",
    "        \"and free from any potential ethical issues. \" \n",
    "        \"Make sure your suggestion is concise (within 3 bullet points), \"\n",
    "        \"concrete and to the point. \"\n",
    "        \"Begin the review by stating your role. \",\n",
    ")"
   ]
  },
  {
   "cell_type": "code",
   "execution_count": 69,
   "id": "a7b2ad6f-8ba6-436a-9459-14ffbe8a32d3",
   "metadata": {
    "height": 115
   },
   "outputs": [],
   "source": [
    "meta_reviewer = autogen.AssistantAgent(\n",
    "    name=\"Meta Reviewer\",\n",
    "    llm_config=llm_config,\n",
    "    system_message=\"You are a meta reviewer, you aggragate and review \"\n",
    "    \"the work of other reviewers and give a final suggestion on the content.\",\n",
    ")"
   ]
  },
  {
   "cell_type": "markdown",
   "id": "913beca1",
   "metadata": {},
   "source": [
    "## Orchestrate the nested chats to solve the task"
   ]
  },
  {
   "cell_type": "code",
   "execution_count": 70,
   "id": "a11a70c7-19ca-4e5a-ad3d-f2b481fb5915",
   "metadata": {
    "height": 540
   },
   "outputs": [],
   "source": [
    "def reflection_message(recipient, messages, sender, config):\n",
    "    return f'''Review the following content. \n",
    "            \\n\\n {recipient.chat_messages_for_summary(sender)[-1]['content']}'''\n",
    "\n",
    "review_chats = [\n",
    "    {\n",
    "     \"recipient\": SEO_reviewer, \n",
    "     \"message\": reflection_message, \n",
    "     \"summary_method\": \"reflection_with_llm\",\n",
    "     \"summary_args\": {\"summary_prompt\" : \n",
    "        \"Return review into as JSON object only:\"\n",
    "        \"{'Reviewer': '', 'Review': ''}. Here Reviewer should be your role\",},\n",
    "     \"max_turns\": 1},\n",
    "    {\n",
    "    \"recipient\": legal_reviewer, \"message\": reflection_message, \n",
    "     \"summary_method\": \"reflection_with_llm\",\n",
    "     \"summary_args\": {\"summary_prompt\" : \n",
    "        \"Return review into as JSON object only:\"\n",
    "        \"{'Reviewer': '', 'Review': ''}.\",},\n",
    "     \"max_turns\": 1},\n",
    "    {\"recipient\": ethics_reviewer, \"message\": reflection_message, \n",
    "     \"summary_method\": \"reflection_with_llm\",\n",
    "     \"summary_args\": {\"summary_prompt\" : \n",
    "        \"Return review into as JSON object only:\"\n",
    "        \"{'reviewer': '', 'review': ''}\",},\n",
    "     \"max_turns\": 1},\n",
    "     {\"recipient\": meta_reviewer, \n",
    "      \"message\": \"Aggregrate feedback from all reviewers and give final suggestions on the writing.\", \n",
    "     \"max_turns\": 1},\n",
    "]\n"
   ]
  },
  {
   "cell_type": "code",
   "execution_count": 71,
   "id": "b3a40b66-5061-460d-ad9d-c0dbcfbba2e9",
   "metadata": {
    "height": 81
   },
   "outputs": [],
   "source": [
    "critic.register_nested_chats(\n",
    "    review_chats,\n",
    "    trigger=writer,\n",
    ")"
   ]
  },
  {
   "cell_type": "markdown",
   "id": "43b8797d",
   "metadata": {},
   "source": [
    "**Note**: You might get a slightly different response than what's shown in the video. Feel free to try different task."
   ]
  },
  {
   "cell_type": "code",
   "execution_count": 72,
   "id": "3b8dcac3-1e72-43b7-9d5a-1be740f6efd5",
   "metadata": {
    "height": 115
   },
   "outputs": [
    {
     "name": "stdout",
     "output_type": "stream",
     "text": [
      "\u001b[33mCritic\u001b[0m (to Writer):\n",
      "\n",
      "\n",
      "        Write a concise but engaging blogpost about\n",
      "       Rasheed Abdulkareem Data Expert Make sure the blogpost is\n",
      "       within 1000 words.\n",
      "       \n",
      "\n",
      "--------------------------------------------------------------------------------\n",
      "\u001b[33mWriter\u001b[0m (to Critic):\n",
      "\n",
      "Title: Unveiling the Data Wizard: The Rise of Rasheed Abdulkareem\n",
      "\n",
      "In the realm of data analytics, one name stands out among the rest - Rasheed Abdulkareem. With a keen eye for patterns and a passion for unraveling insights, Rasheed has carved a niche for himself as a data expert extraordinaire. His journey from humble beginnings to becoming a sought-after industry figure is nothing short of inspiring.\n",
      "\n",
      "Rasheed's fascination with data started at a young age when he would spend hours poring over spreadsheets and datasets, trying to make sense of the numbers. What began as a hobby soon turned into a full-fledged passion, driving him to pursue a degree in data science and analytics.\n",
      "\n",
      "After graduating, Rasheed wasted no time in making his mark in the industry. His unique approach to data analysis, coupled with his ability to simplify complex concepts, quickly caught the attention of both peers and clients. Before long, he was consulting for top firms, helping them harness the power of data to drive strategic decision-making.\n",
      "\n",
      "But Rasheed's success goes beyond his technical expertise. What truly sets him apart is his dedication to giving back to the community. He regularly volunteers his time to teach data literacy skills to underprivileged youth, empowering them to chart their own paths in the world of data.\n",
      "\n",
      "In a field that is constantly evolving, Rasheed stays ahead of the curve by continuously upskilling and learning new technologies. His thirst for knowledge is infectious, inspiring those around him to push the boundaries of what is possible in the world of data analytics.\n",
      "\n",
      "Today, Rasheed Abdulkareem is not just a data expert; he is a visionary, a mentor, and a true force for good in the industry. His story serves as a reminder that with passion, perseverance, and a willingness to learn, anyone can achieve their dreams - no matter how big they may seem.\n",
      "\n",
      "Rasheed's journey is a testament to the transformative power of data and the incredible things that can be accomplished when we harness its full potential. As he continues to push the boundaries of what is possible in the world of data analytics, one thing is certain - the best is yet to come for Rasheed Abdulkareem.\n",
      "\n",
      "Stay tuned as we follow Rasheed's journey and uncover the secrets behind his success in the world of data analytics. The wizardry of data awaits, and Rasheed Abdulkareem is leading the way.\n",
      "\n",
      "--------------------------------------------------------------------------------\n",
      "\u001b[34m\n",
      "********************************************************************************\u001b[0m\n",
      "\u001b[34mStarting a new chat....\u001b[0m\n",
      "\u001b[34m\n",
      "********************************************************************************\u001b[0m\n",
      "\u001b[33mCritic\u001b[0m (to SEO Reviewer):\n",
      "\n",
      "Review the following content. \n",
      "            \n",
      "\n",
      " Title: Unveiling the Data Wizard: The Rise of Rasheed Abdulkareem\n",
      "\n",
      "In the realm of data analytics, one name stands out among the rest - Rasheed Abdulkareem. With a keen eye for patterns and a passion for unraveling insights, Rasheed has carved a niche for himself as a data expert extraordinaire. His journey from humble beginnings to becoming a sought-after industry figure is nothing short of inspiring.\n",
      "\n",
      "Rasheed's fascination with data started at a young age when he would spend hours poring over spreadsheets and datasets, trying to make sense of the numbers. What began as a hobby soon turned into a full-fledged passion, driving him to pursue a degree in data science and analytics.\n",
      "\n",
      "After graduating, Rasheed wasted no time in making his mark in the industry. His unique approach to data analysis, coupled with his ability to simplify complex concepts, quickly caught the attention of both peers and clients. Before long, he was consulting for top firms, helping them harness the power of data to drive strategic decision-making.\n",
      "\n",
      "But Rasheed's success goes beyond his technical expertise. What truly sets him apart is his dedication to giving back to the community. He regularly volunteers his time to teach data literacy skills to underprivileged youth, empowering them to chart their own paths in the world of data.\n",
      "\n",
      "In a field that is constantly evolving, Rasheed stays ahead of the curve by continuously upskilling and learning new technologies. His thirst for knowledge is infectious, inspiring those around him to push the boundaries of what is possible in the world of data analytics.\n",
      "\n",
      "Today, Rasheed Abdulkareem is not just a data expert; he is a visionary, a mentor, and a true force for good in the industry. His story serves as a reminder that with passion, perseverance, and a willingness to learn, anyone can achieve their dreams - no matter how big they may seem.\n",
      "\n",
      "Rasheed's journey is a testament to the transformative power of data and the incredible things that can be accomplished when we harness its full potential. As he continues to push the boundaries of what is possible in the world of data analytics, one thing is certain - the best is yet to come for Rasheed Abdulkareem.\n",
      "\n",
      "Stay tuned as we follow Rasheed's journey and uncover the secrets behind his success in the world of data analytics. The wizardry of data awaits, and Rasheed Abdulkareem is leading the way.\n",
      "\n",
      "--------------------------------------------------------------------------------\n",
      "\u001b[33mSEO Reviewer\u001b[0m (to Critic):\n",
      "\n",
      "As an SEO reviewer:\n",
      "\n",
      "1. **Target Specific Keywords:** Identify high-ranking keywords related to data analytics and Rasheed Abdulkareem's expertise. Incorporate these keywords strategically throughout the content to improve search engine visibility.\n",
      "   \n",
      "2. **Optimize Meta Title and Description:** Craft a compelling meta title and description that includes key words about data analytics and Rasheed Abdulkareem to boost click-through rates from search engine results.\n",
      "\n",
      "3. **Build Backlinks:** Create opportunities for reputable websites in the data analytics field to link back to this content. This will improve domain authority and increase the content's visibility in search results.\n",
      "\n",
      "--------------------------------------------------------------------------------\n",
      "\u001b[34m\n",
      "********************************************************************************\u001b[0m\n",
      "\u001b[34mStarting a new chat....\u001b[0m\n",
      "\u001b[34m\n",
      "********************************************************************************\u001b[0m\n",
      "\u001b[33mCritic\u001b[0m (to Legal Reviewer):\n",
      "\n",
      "Review the following content. \n",
      "            \n",
      "\n",
      " Title: Unveiling the Data Wizard: The Rise of Rasheed Abdulkareem\n",
      "\n",
      "In the realm of data analytics, one name stands out among the rest - Rasheed Abdulkareem. With a keen eye for patterns and a passion for unraveling insights, Rasheed has carved a niche for himself as a data expert extraordinaire. His journey from humble beginnings to becoming a sought-after industry figure is nothing short of inspiring.\n",
      "\n",
      "Rasheed's fascination with data started at a young age when he would spend hours poring over spreadsheets and datasets, trying to make sense of the numbers. What began as a hobby soon turned into a full-fledged passion, driving him to pursue a degree in data science and analytics.\n",
      "\n",
      "After graduating, Rasheed wasted no time in making his mark in the industry. His unique approach to data analysis, coupled with his ability to simplify complex concepts, quickly caught the attention of both peers and clients. Before long, he was consulting for top firms, helping them harness the power of data to drive strategic decision-making.\n",
      "\n",
      "But Rasheed's success goes beyond his technical expertise. What truly sets him apart is his dedication to giving back to the community. He regularly volunteers his time to teach data literacy skills to underprivileged youth, empowering them to chart their own paths in the world of data.\n",
      "\n",
      "In a field that is constantly evolving, Rasheed stays ahead of the curve by continuously upskilling and learning new technologies. His thirst for knowledge is infectious, inspiring those around him to push the boundaries of what is possible in the world of data analytics.\n",
      "\n",
      "Today, Rasheed Abdulkareem is not just a data expert; he is a visionary, a mentor, and a true force for good in the industry. His story serves as a reminder that with passion, perseverance, and a willingness to learn, anyone can achieve their dreams - no matter how big they may seem.\n",
      "\n",
      "Rasheed's journey is a testament to the transformative power of data and the incredible things that can be accomplished when we harness its full potential. As he continues to push the boundaries of what is possible in the world of data analytics, one thing is certain - the best is yet to come for Rasheed Abdulkareem.\n",
      "\n",
      "Stay tuned as we follow Rasheed's journey and uncover the secrets behind his success in the world of data analytics. The wizardry of data awaits, and Rasheed Abdulkareem is leading the way.\n",
      "Context: \n",
      "{'Reviewer': 'SEO reviewer', 'Review': 'The content should include specific keywords related to data analytics and Rasheed Abdulkareem to improve search engine visibility. The meta title and description should be optimized with relevant keywords. Building backlinks with reputable websites in the data analytics field will enhance domain authority and search visibility.'}\n"
     ]
    },
    {
     "name": "stdout",
     "output_type": "stream",
     "text": [
      "\n",
      "--------------------------------------------------------------------------------\n",
      "\u001b[33mLegal Reviewer\u001b[0m (to Critic):\n",
      "\n",
      "As a Legal Reviewer:\n",
      "\n",
      "- Ensure that any claims made about Rasheed Abdulkareem's expertise and achievements are factually accurate and can be substantiated.\n",
      "- Review for any potential copyright infringement in the content, especially if any quotes or references have been used without proper attribution.\n",
      "- Confirm that there are no defamatory statements or misleading information that could harm Rasheed Abdulkareem's reputation or legal standing.\n",
      "\n",
      "--------------------------------------------------------------------------------\n",
      "\u001b[34m\n",
      "********************************************************************************\u001b[0m\n",
      "\u001b[34mStarting a new chat....\u001b[0m\n",
      "\u001b[34m\n",
      "********************************************************************************\u001b[0m\n",
      "\u001b[33mCritic\u001b[0m (to Ethics Reviewer):\n",
      "\n",
      "Review the following content. \n",
      "            \n",
      "\n",
      " Title: Unveiling the Data Wizard: The Rise of Rasheed Abdulkareem\n",
      "\n",
      "In the realm of data analytics, one name stands out among the rest - Rasheed Abdulkareem. With a keen eye for patterns and a passion for unraveling insights, Rasheed has carved a niche for himself as a data expert extraordinaire. His journey from humble beginnings to becoming a sought-after industry figure is nothing short of inspiring.\n",
      "\n",
      "Rasheed's fascination with data started at a young age when he would spend hours poring over spreadsheets and datasets, trying to make sense of the numbers. What began as a hobby soon turned into a full-fledged passion, driving him to pursue a degree in data science and analytics.\n",
      "\n",
      "After graduating, Rasheed wasted no time in making his mark in the industry. His unique approach to data analysis, coupled with his ability to simplify complex concepts, quickly caught the attention of both peers and clients. Before long, he was consulting for top firms, helping them harness the power of data to drive strategic decision-making.\n",
      "\n",
      "But Rasheed's success goes beyond his technical expertise. What truly sets him apart is his dedication to giving back to the community. He regularly volunteers his time to teach data literacy skills to underprivileged youth, empowering them to chart their own paths in the world of data.\n",
      "\n",
      "In a field that is constantly evolving, Rasheed stays ahead of the curve by continuously upskilling and learning new technologies. His thirst for knowledge is infectious, inspiring those around him to push the boundaries of what is possible in the world of data analytics.\n",
      "\n",
      "Today, Rasheed Abdulkareem is not just a data expert; he is a visionary, a mentor, and a true force for good in the industry. His story serves as a reminder that with passion, perseverance, and a willingness to learn, anyone can achieve their dreams - no matter how big they may seem.\n",
      "\n",
      "Rasheed's journey is a testament to the transformative power of data and the incredible things that can be accomplished when we harness its full potential. As he continues to push the boundaries of what is possible in the world of data analytics, one thing is certain - the best is yet to come for Rasheed Abdulkareem.\n",
      "\n",
      "Stay tuned as we follow Rasheed's journey and uncover the secrets behind his success in the world of data analytics. The wizardry of data awaits, and Rasheed Abdulkareem is leading the way.\n",
      "Context: \n",
      "{'Reviewer': 'SEO reviewer', 'Review': 'The content should include specific keywords related to data analytics and Rasheed Abdulkareem to improve search engine visibility. The meta title and description should be optimized with relevant keywords. Building backlinks with reputable websites in the data analytics field will enhance domain authority and search visibility.'}\n",
      "{'Reviewer': 'SEO reviewer', 'Review': 'The content should include specific keywords related to data analytics and Rasheed Abdulkareem to improve search engine visibility. The meta title and description should be optimized with relevant keywords. Building backlinks with reputable websites in the data analytics field will enhance domain authority and search visibility.'}\n",
      "\n",
      "--------------------------------------------------------------------------------\n",
      "\u001b[33mEthics Reviewer\u001b[0m (to Critic):\n",
      "\n",
      "As an ethics reviewer:\n",
      "\n",
      "1. Ensure that any personal or professional information shared about Rasheed Abdulkareem has been obtained with his explicit consent, and that he is aware of how his story is being portrayed and shared.\n",
      "2. Verify the accuracy of any community initiatives mentioned, such as volunteering and teaching data literacy to underprivileged youth, to maintain transparency and authenticity in the portrayal of Rasheed Abdulkareem's character.\n",
      "3. Confirm that any claims made about Rasheed's achievements and impact in the data analytics field are factually accurate and supported by evidence, to avoid misleading the audience or misrepresenting his accomplishments.\n",
      "\n",
      "--------------------------------------------------------------------------------\n",
      "\u001b[34m\n",
      "********************************************************************************\u001b[0m\n",
      "\u001b[34mStarting a new chat....\u001b[0m\n",
      "\u001b[34m\n",
      "********************************************************************************\u001b[0m\n",
      "\u001b[33mCritic\u001b[0m (to Meta Reviewer):\n",
      "\n",
      "Aggregrate feedback from all reviewers and give final suggestions on the writing.\n",
      "Context: \n",
      "{'Reviewer': 'SEO reviewer', 'Review': 'The content should include specific keywords related to data analytics and Rasheed Abdulkareem to improve search engine visibility. The meta title and description should be optimized with relevant keywords. Building backlinks with reputable websites in the data analytics field will enhance domain authority and search visibility.'}\n",
      "{'Reviewer': 'SEO reviewer', 'Review': 'The content should include specific keywords related to data analytics and Rasheed Abdulkareem to improve search engine visibility. The meta title and description should be optimized with relevant keywords. Building backlinks with reputable websites in the data analytics field will enhance domain authority and search visibility.'}\n",
      "{'reviewer': 'SEO reviewer', 'review': 'The content should include specific keywords related to data analytics and Rasheed Abdulkareem to improve search engine visibility. The meta title and description should be optimized with relevant keywords. Building backlinks with reputable websites in the data analytics field will enhance domain authority and search visibility.'}\n",
      "\n",
      "--------------------------------------------------------------------------------\n",
      "\u001b[33mMeta Reviewer\u001b[0m (to Critic):\n",
      "\n",
      "Aggregated Feedback:\n",
      "- All reviewers emphasize the importance of including specific keywords related to data analytics and Rasheed Abdulkareem for better search engine visibility.\n",
      "- They all suggest optimizing the meta title and description with relevant keywords.\n",
      "- Building backlinks with reputable websites in the data analytics field is highlighted as a way to enhance domain authority and search visibility.\n",
      "\n",
      "Final Suggestions:\n",
      "1. Ensure that the content includes targeted keywords related to data analytics and Rasheed Abdulkareem strategically throughout the content.\n",
      "2. Optimize the meta title and description with relevant keywords to improve search engine visibility.\n",
      "3. Actively work on building backlinks with reputable websites in the data analytics field to enhance domain authority and search visibility.\n",
      "\n",
      "Overall, the reviewers' feedback is consistent and highlights key strategies for improving the content's visibility and authority in search engine rankings. By implementing these suggestions, the content can attract more traffic and establish a stronger online presence in the data analytics field.\n",
      "\n",
      "--------------------------------------------------------------------------------\n",
      "\u001b[33mCritic\u001b[0m (to Writer):\n",
      "\n",
      "Aggregated Feedback:\n",
      "- All reviewers emphasize the importance of including specific keywords related to data analytics and Rasheed Abdulkareem for better search engine visibility.\n",
      "- They all suggest optimizing the meta title and description with relevant keywords.\n",
      "- Building backlinks with reputable websites in the data analytics field is highlighted as a way to enhance domain authority and search visibility.\n",
      "\n",
      "Final Suggestions:\n",
      "1. Ensure that the content includes targeted keywords related to data analytics and Rasheed Abdulkareem strategically throughout the content.\n",
      "2. Optimize the meta title and description with relevant keywords to improve search engine visibility.\n",
      "3. Actively work on building backlinks with reputable websites in the data analytics field to enhance domain authority and search visibility.\n",
      "\n",
      "Overall, the reviewers' feedback is consistent and highlights key strategies for improving the content's visibility and authority in search engine rankings. By implementing these suggestions, the content can attract more traffic and establish a stronger online presence in the data analytics field.\n"
     ]
    },
    {
     "name": "stdout",
     "output_type": "stream",
     "text": [
      "\n",
      "--------------------------------------------------------------------------------\n",
      "\u001b[33mWriter\u001b[0m (to Critic):\n",
      "\n",
      "Title: Unveiling the Data Wizard: Rasheed Abdulkareem's Journey in Data Analytics\n",
      "\n",
      "Meta Description: Explore the inspiring journey of Rasheed Abdulkareem, a prominent figure in the data analytics field, and uncover the secrets behind his success. Follow along as we delve into his expertise, passion for data, and contributions to the industry.\n",
      "\n",
      "In the dynamic realm of data analytics, Rasheed Abdulkareem shines as a true wizard, captivating audiences with his exceptional skills and innovative insights. From humble beginnings to becoming a sought-after data expert, Rasheed's journey is both inspiring and impactful.\n",
      "\n",
      "Rasheed's fascination with data began early, leading him to immerse himself in spreadsheets and datasets, laying the foundation for his stellar career in data science and analytics. His commitment to understanding intricate patterns and deriving meaningful conclusions set him apart, garnering admiration from peers and clients alike.\n",
      "\n",
      "Embracing his passion, Rasheed swiftly made a mark in the industry by offering a fresh perspective on data analysis and simplifying complex concepts. This prowess catapulted him into consultancy roles with esteemed firms, where he played a pivotal role in shaping data-driven strategies for success.\n",
      "\n",
      "Beyond his technical acumen, Rasheed's altruistic spirit shines through his dedication to empowering the community. Through various initiatives, he imparts invaluable data literacy skills to disadvantaged youth, unlocking doors to a future enriched by data insights.\n",
      "\n",
      "In the ever-evolving landscape of data analytics, Rasheed remains at the forefront, embracing continuous learning and technological advancements. His insatiable thirst for knowledge inspires those around him to explore new horizons and redefine boundaries in the data analytics sphere.\n",
      "\n",
      "Rasheed Abdulkareem epitomizes more than just a data expert; he embodies a visionary leader and a beacon of hope for aspiring data enthusiasts. His narrative echoes the transformative influence of data and underscores the boundless possibilities that lie ahead for those who dare to dream.\n",
      "\n",
      "As we delve deeper into Rasheed's journey, we unravel the allure of data wizardry through his eyes. Stay tuned to witness the unfolding chapters of Rasheed Abdulkareem's saga in data analytics, where innovation knows no bounds, and brilliance finds its home.\n",
      "\n",
      "--------------------------------------------------------------------------------\n"
     ]
    }
   ],
   "source": [
    "res = critic.initiate_chat(\n",
    "    recipient=writer,\n",
    "    message=task,\n",
    "    max_turns=2,\n",
    "    summary_method=\"last_msg\"\n",
    ")"
   ]
  },
  {
   "cell_type": "markdown",
   "id": "c5c833b0",
   "metadata": {},
   "source": [
    "## Get the summary"
   ]
  },
  {
   "cell_type": "code",
   "execution_count": 73,
   "id": "68ef82ed-f102-4964-b7be-60e2f258a39b",
   "metadata": {
    "height": 30
   },
   "outputs": [
    {
     "name": "stdout",
     "output_type": "stream",
     "text": [
      "Title: Unveiling the Data Wizard: Rasheed Abdulkareem's Journey in Data Analytics\n",
      "\n",
      "Meta Description: Explore the inspiring journey of Rasheed Abdulkareem, a prominent figure in the data analytics field, and uncover the secrets behind his success. Follow along as we delve into his expertise, passion for data, and contributions to the industry.\n",
      "\n",
      "In the dynamic realm of data analytics, Rasheed Abdulkareem shines as a true wizard, captivating audiences with his exceptional skills and innovative insights. From humble beginnings to becoming a sought-after data expert, Rasheed's journey is both inspiring and impactful.\n",
      "\n",
      "Rasheed's fascination with data began early, leading him to immerse himself in spreadsheets and datasets, laying the foundation for his stellar career in data science and analytics. His commitment to understanding intricate patterns and deriving meaningful conclusions set him apart, garnering admiration from peers and clients alike.\n",
      "\n",
      "Embracing his passion, Rasheed swiftly made a mark in the industry by offering a fresh perspective on data analysis and simplifying complex concepts. This prowess catapulted him into consultancy roles with esteemed firms, where he played a pivotal role in shaping data-driven strategies for success.\n",
      "\n",
      "Beyond his technical acumen, Rasheed's altruistic spirit shines through his dedication to empowering the community. Through various initiatives, he imparts invaluable data literacy skills to disadvantaged youth, unlocking doors to a future enriched by data insights.\n",
      "\n",
      "In the ever-evolving landscape of data analytics, Rasheed remains at the forefront, embracing continuous learning and technological advancements. His insatiable thirst for knowledge inspires those around him to explore new horizons and redefine boundaries in the data analytics sphere.\n",
      "\n",
      "Rasheed Abdulkareem epitomizes more than just a data expert; he embodies a visionary leader and a beacon of hope for aspiring data enthusiasts. His narrative echoes the transformative influence of data and underscores the boundless possibilities that lie ahead for those who dare to dream.\n",
      "\n",
      "As we delve deeper into Rasheed's journey, we unravel the allure of data wizardry through his eyes. Stay tuned to witness the unfolding chapters of Rasheed Abdulkareem's saga in data analytics, where innovation knows no bounds, and brilliance finds its home.\n"
     ]
    }
   ],
   "source": [
    "print(res.summary)"
   ]
  }
 ],
 "metadata": {
  "kernelspec": {
   "display_name": "Python 3 (ipykernel)",
   "language": "python",
   "name": "python3"
  },
  "language_info": {
   "codemirror_mode": {
    "name": "ipython",
    "version": 3
   },
   "file_extension": ".py",
   "mimetype": "text/x-python",
   "name": "python",
   "nbconvert_exporter": "python",
   "pygments_lexer": "ipython3",
   "version": "3.11.9"
  }
 },
 "nbformat": 4,
 "nbformat_minor": 5
}

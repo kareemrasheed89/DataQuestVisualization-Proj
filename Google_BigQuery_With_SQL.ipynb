{
  "nbformat": 4,
  "nbformat_minor": 0,
  "metadata": {
    "colab": {
      "name": "Google BigQuery With SQL",
      "provenance": [],
      "authorship_tag": "ABX9TyNCIpeyrDU7/XgGnp3rao+C",
      "include_colab_link": true
    },
    "kernelspec": {
      "name": "python3",
      "display_name": "Python 3"
    }
  },
  "cells": [
    {
      "cell_type": "markdown",
      "metadata": {
        "id": "view-in-github",
        "colab_type": "text"
      },
      "source": [
        "<a href=\"https://colab.research.google.com/github/kareemrasheed89/DataQuestVisualization-Proj/blob/master/Google_BigQuery_With_SQL.ipynb\" target=\"_parent\"><img src=\"https://colab.research.google.com/assets/colab-badge.svg\" alt=\"Open In Colab\"/></a>"
      ]
    },
    {
      "cell_type": "markdown",
      "metadata": {
        "id": "EzZxblO8iL-c"
      },
      "source": [
        "**BIGQUERY DATASET WITH SQL**\n",
        "Basics of Accessing and examining bigquery dataset.....\n"
      ]
    },
    {
      "cell_type": "code",
      "metadata": {
        "id": "xFLA7x1JilJB"
      },
      "source": [
        "\"\"\"The first thing to do is to import the useful library to access the \n",
        "  google bigquery engine\"\"\"\n",
        "from google.cloud import bigquery\n",
        "# Imports the Google Cloud client library\n",
        "from google.cloud import storage\n",
        "import os\n",
        "os.environ[\"GOOGLE_APPLICATION_CREDENTIALS\"]=\"/content/neural-truth-234412-48fed89d839d.json\""
      ],
      "execution_count": 22,
      "outputs": []
    },
    {
      "cell_type": "code",
      "metadata": {
        "id": "5i1_P53QjHoI"
      },
      "source": [
        "client=bigquery.Client()\n",
        "\"\"\"We will use kaggle's public dataset BigQuery Integration. \n",
        "In BigQuery, each dataset is contained in a corresponding project, \n",
        "because for every activity on google cloud console, you must first create a project.\"\"\"\n",
        "\n",
        "#Construct a reference to the dataset\n",
        "dataset_ref=client.dataset(\"hacker_news\", project=\"bigquery-public-data\")\n",
        "\n",
        "#Now we just created a reference link to the data named 'hacker_news\n",
        "\n",
        "#Also we need to use client API .GET_dataset\n",
        "dataset=client.get_dataset(dataset_ref)"
      ],
      "execution_count": 24,
      "outputs": []
    },
    {
      "cell_type": "code",
      "metadata": {
        "id": "Xakab71TH0ry"
      },
      "source": [
        "#We then need to list the tables in the \"hacker news\" dataset file\n",
        "tables=list(client.list_tables(dataset))\n",
        "for table in tables:\n",
        "  print(table.table_id)\n",
        "  "
      ],
      "execution_count": null,
      "outputs": []
    }
  ]
}